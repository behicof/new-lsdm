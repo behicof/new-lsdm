{
 "cells": [
  {
   "cell_type": "markdown",
   "id": "e6636503",
   "metadata": {},
   "source": [
    "# XAUUSD LSTM AutoLoad\n",
    "مدل LSTM برای پیش‌بینی طلا"
   ]
  },
  {
   "cell_type": "code",
   "execution_count": null,
   "id": "f99db4bd",
   "metadata": {},
   "outputs": [],
   "source": [
    "!pip install pandas numpy scikit-learn tensorflow matplotlib"
   ]
  },
  {
   "cell_type": "code",
   "execution_count": null,
   "id": "f5f25b79",
   "metadata": {},
   "outputs": [],
   "source": [
    "import pandas as pd\n",
    "import numpy as np\n",
    "from sklearn.preprocessing import MinMaxScaler\n",
    "from sklearn.model_selection import train_test_split\n",
    "from tensorflow.keras.models import Sequential\n",
    "from tensorflow.keras.layers import LSTM, Dense, Dropout\n",
    "import matplotlib.pyplot as plt"
   ]
  },
  {
   "cell_type": "code",
   "execution_count": null,
   "id": "260ae925",
   "metadata": {},
   "outputs": [],
   "source": [
    "# بارگذاری دیتای CSV\n",
    "df = pd.read_csv('xauusd_lstm_ready_clean.csv')\n",
    "df['time'] = pd.to_datetime(df['time'])\n",
    "df = df.sort_values('time').reset_index(drop=True)\n",
    "df.dropna(inplace=True)\n",
    "df.head()"
   ]
  },
  {
   "cell_type": "code",
   "execution_count": null,
   "id": "96367047",
   "metadata": {},
   "outputs": [],
   "source": [
    "# آماده‌سازی داده برای مدل LSTM\n",
    "features = ['close', 'rsi', 'atr', 'ema_diff', 'body', 'upper_shadow', 'lower_shadow']\n",
    "scaler = MinMaxScaler()\n",
    "scaled = scaler.fit_transform(df[features])\n",
    "X, y = [], []\n",
    "seq_len = 60\n",
    "for i in range(seq_len, len(scaled) - 10):\n",
    "    X.append(scaled[i-seq_len:i])\n",
    "    future = df['close'].iloc[i + 10]\n",
    "    now = df['close'].iloc[i]\n",
    "    delta = future - now\n",
    "    threshold = df['atr'].iloc[i] * 1.5\n",
    "    if delta > threshold:\n",
    "        y.append(2)\n",
    "    elif delta < -threshold:\n",
    "        y.append(0)\n",
    "    else:\n",
    "        y.append(1)\n",
    "X, y = np.array(X), np.array(y)"
   ]
  },
  {
   "cell_type": "code",
   "execution_count": null,
   "id": "1140e5e8",
   "metadata": {},
   "outputs": [],
   "source": [
    "# ساخت و آموزش مدل\n",
    "X_train, X_test, y_train, y_test = train_test_split(X, y, test_size=0.2, shuffle=False)\n",
    "model = Sequential()\n",
    "model.add(LSTM(64, return_sequences=True, input_shape=(X.shape[1], X.shape[2])))\n",
    "model.add(Dropout(0.2))\n",
    "model.add(LSTM(32))\n",
    "model.add(Dropout(0.2))\n",
    "model.add(Dense(3, activation='softmax'))\n",
    "model.compile(optimizer='adam', loss='sparse_categorical_crossentropy', metrics=['accuracy'])\n",
    "model.fit(X_train, y_train, epochs=5, batch_size=32, validation_data=(X_test, y_test))\n",
    "loss, acc = model.evaluate(X_test, y_test)\n",
    "print(f'Test Accuracy: {acc:.4f}')"
   ]
  }
 ],
 "metadata": {},
 "nbformat": 4,
 "nbformat_minor": 5
}

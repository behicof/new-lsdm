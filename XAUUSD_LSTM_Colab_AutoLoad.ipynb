{
  "cells": [
    {
      "cell_type": "markdown",
      "metadata": {},
      "source": [
        "# XAUUSD LSTM Colab AutoLoad\n",
        "مدل LSTM برای پیش‌بینی قیمت طلا (XAUUSD)"
      ]
    },
    {
      "cell_type": "code",
      "execution_count": null,
      "metadata": {},
      "outputs": [],
      "source": [
        "# این سلول برای نصب کتابخانه‌های لازم است\n",
        "!pip install numpy pandas scikit-learn tensorflow matplotlib"
      ]
    },
    {
      "cell_type": "code",
      "execution_count": null,
      "metadata": {},
      "outputs": [],
      "source": [
        "# این سلول برای بارگذاری فایل CSV از GitHub است\n",
        "import pandas as pd\n",
        "url = 'https://raw.githubusercontent.com/behicof/new-lsdm/main/xauusd_lstm_ready_clean.csv'\n",
        "df = pd.read_csv(url)\n",
        "df.head()"
      ]
    }
  ],
  "metadata": {
    "kernelspec": {
      "display_name": "Python 3",
      "language": "python",
      "name": "python3"
    },
    "language_info": {
      "name": "python",
      "version": "3.10"
    }
  },
  "nbformat": 4,
  "nbformat_minor": 5
}
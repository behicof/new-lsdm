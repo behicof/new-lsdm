{
 "cells": [
  {
   "cell_type": "markdown",
   "id": "c683f3b4",
   "metadata": {},
   "source": [
    "# XAUUSD LSTM Colab AutoLoad\n",
    "مدل LSTM برای پیش‌بینی قیمت طلا (XAUUSD)"
   ]
  },
  {
   "cell_type": "code",
   "execution_count": null,
   "id": "eec0c42b",
   "metadata": {},
   "outputs": [],
   "source": [
    "# این سلول برای نصب کتابخانه‌های لازم است\n",
    "!pip install numpy pandas scikit-learn tensorflow matplotlib"
   ]
  },
  {
   "cell_type": "code",
   "execution_count": null,
   "id": "5b3d2a18",
   "metadata": {},
   "outputs": [],
   "source": [
    "# این سلول برای بارگذاری فایل CSV از GitHub است\n",
    "import pandas as pd\n",
    "url = 'https://raw.githubusercontent.com/behicof/new-lsdm/main/xauusd_lstm_ready_clean.csv'\n",
    "df = pd.read_csv(url)\n",
    "df.head()"
   ]
  },
  {
   "cell_type": "code",
   "execution_count": null,
   "id": "59fd9113",
   "metadata": {},
   "outputs": [],
   "source": [
    "\n",
    "import numpy as np\n",
    "from sklearn.preprocessing import MinMaxScaler\n",
    "from sklearn.model_selection import train_test_split\n",
    "from tensorflow.keras.models import Sequential\n",
    "from tensorflow.keras.layers import LSTM, Dense, Dropout\n",
    "\n",
    "# انتخاب ویژگی‌ها\n",
    "features = ['close', 'rsi', 'atr', 'ema_diff', 'body', 'upper_shadow', 'lower_shadow']\n",
    "data = df[features].dropna()\n",
    "\n",
    "# مقیاس‌بندی داده‌ها\n",
    "scaler = MinMaxScaler()\n",
    "scaled_data = scaler.fit_transform(data)\n",
    "\n",
    "# ساخت توالی‌ها\n",
    "X, y = [], []\n",
    "sequence_length = 60\n",
    "for i in range(sequence_length, len(scaled_data) - 10):\n",
    "    X.append(scaled_data[i-sequence_length:i])\n",
    "    now = data['close'].iloc[i]\n",
    "    future = data['close'].iloc[i + 10]\n",
    "    delta = future - now\n",
    "    threshold = data['atr'].iloc[i] * 1.5\n",
    "    if delta > threshold:\n",
    "        y.append(2)  # سیگنال خرید\n",
    "    elif delta < -threshold:\n",
    "        y.append(0)  # سیگنال فروش\n",
    "    else:\n",
    "        y.append(1)  # نگه‌داری\n",
    "\n",
    "X, y = np.array(X), np.array(y)\n",
    "\n",
    "# تقسیم داده به آموزش و تست\n",
    "X_train, X_test, y_train, y_test = train_test_split(X, y, test_size=0.2, shuffle=False)\n",
    "\n",
    "# ساخت مدل LSTM\n",
    "model = Sequential()\n",
    "model.add(LSTM(64, return_sequences=True, input_shape=(X.shape[1], X.shape[2])))\n",
    "model.add(Dropout(0.2))\n",
    "model.add(LSTM(32))\n",
    "model.add(Dropout(0.2))\n",
    "model.add(Dense(3, activation='softmax'))\n",
    "\n",
    "model.compile(optimizer='adam', loss='sparse_categorical_crossentropy', metrics=['accuracy'])\n",
    "\n",
    "# آموزش مدل\n",
    "model.fit(X_train, y_train, epochs=5, batch_size=32, validation_data=(X_test, y_test))\n",
    "\n",
    "# ارزیابی مدل\n",
    "loss, accuracy = model.evaluate(X_test, y_test)\n",
    "print(f\"Test Accuracy: {accuracy:.4f}\")\n"
   ]
  }
 ],
 "metadata": {
  "kernelspec": {
   "display_name": "Python 3",
   "language": "python",
   "name": "python3"
  },
  "language_info": {
   "name": "python",
   "version": "3.10"
  }
 },
 "nbformat": 4,
 "nbformat_minor": 5
}

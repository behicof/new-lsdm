{
 "cells": [
  {
   "cell_type": "markdown",
   "id": "cd05b34b",
   "metadata": {},
   "source": [
    "# XAUUSD Candlestick Chart Generator\n",
    "این نوت‌بوک به صورت خودکار از داده‌های شما چارت‌های کندلی تولید کرده و با توجه به آینده، برچسب خرید/فروش/نگه‌داری اختصاص می‌دهد."
   ]
  },
  {
   "cell_type": "code",
   "execution_count": null,
   "id": "8fc57bd0",
   "metadata": {},
   "outputs": [],
   "source": [
    "!pip install mplfinance pandas numpy matplotlib"
   ]
  },
  {
   "cell_type": "code",
   "execution_count": null,
   "id": "02ed1b44",
   "metadata": {},
   "outputs": [],
   "source": [
    "from google.colab import files\n",
    "uploaded = files.upload()"
   ]
  },
  {
   "cell_type": "code",
   "execution_count": null,
   "id": "41e29160",
   "metadata": {},
   "outputs": [],
   "source": [
    "import pandas as pd\n",
    "import numpy as np\n",
    "import matplotlib.pyplot as plt\n",
    "import os\n",
    "import mplfinance as mpf\n",
    "\n",
    "df = pd.read_csv(list(uploaded.keys())[0])\n",
    "df.columns = [\"symbol\", \"time\", \"open\", \"high\", \"low\", \"close\", \"volume\"]\n",
    "df[\"time\"] = pd.to_datetime(df[\"time\"], format=\"%Y%m%d%H%M%S\")\n",
    "df.set_index(\"time\", inplace=True)\n",
    "df = df[[\"open\", \"high\", \"low\", \"close\", \"volume\"]].copy()\n",
    "df.head()"
   ]
  },
  {
   "cell_type": "code",
   "execution_count": null,
   "id": "e53ba23b",
   "metadata": {},
   "outputs": [],
   "source": [
    "window = 60\n",
    "future_shift = 10\n",
    "threshold = df[\"close\"].rolling(14).std().mean()\n",
    "output_dir = \"xau_charts\"\n",
    "os.makedirs(output_dir, exist_ok=True)\n",
    "\n",
    "labels = []\n",
    "for i in range(window, window + 20):  # فقط 20 نمونه\n",
    "    segment = df.iloc[i - window:i]\n",
    "    current_price = df[\"close\"].iloc[i]\n",
    "    future_price = df[\"close\"].iloc[i + future_shift]\n",
    "    delta = future_price - current_price\n",
    "\n",
    "    if delta > threshold:\n",
    "        label = \"buy\"\n",
    "    elif delta < -threshold:\n",
    "        label = \"sell\"\n",
    "    else:\n",
    "        label = \"hold\"\n",
    "\n",
    "    filename = f\"{label}_{i}.png\"\n",
    "    filepath = os.path.join(output_dir, filename)\n",
    "    mpf.plot(segment, type='candle', style='charles', savefig=filepath, volume=False)\n",
    "    labels.append((filename, label))\n",
    "\n",
    "# ذخیره لیبل‌ها\n",
    "label_df = pd.DataFrame(labels, columns=[\"filename\", \"label\"])\n",
    "label_df.to_csv(os.path.join(output_dir, \"labels.csv\"), index=False)\n",
    "print(\"تصاویر و لیبل‌ها ساخته شدند.\")"
   ]
  }
 ],
 "metadata": {},
 "nbformat": 4,
 "nbformat_minor": 5
}
